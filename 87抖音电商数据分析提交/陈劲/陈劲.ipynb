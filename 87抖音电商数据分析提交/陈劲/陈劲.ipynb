{
 "cells": [
  {
   "cell_type": "markdown",
   "metadata": {},
   "source": [
    "# 数据预处理"
   ]
  },
  {
   "cell_type": "markdown",
   "metadata": {},
   "source": [
    "## 选取所需要的数据(筛选字段)"
   ]
  },
  {
   "cell_type": "code",
   "execution_count": 161,
   "metadata": {},
   "outputs": [
    {
     "data": {
      "text/plain": [
       "18"
      ]
     },
     "execution_count": 161,
     "metadata": {},
     "output_type": "execute_result"
    }
   ],
   "source": [
    "import pandas as pd\n",
    "import numpy as np\n",
    "import warnings\n",
    "warnings.filterwarnings(\"ignore\")\n",
    "usecols = ['选购商品','商品规格','商品数量','商品单价','订单应付金额','支付方式',\n",
    "'省','市','APP渠道','流量来源','订单状态','售后状态','广告渠道','流量体裁','流量渠道',\n",
    "'订单提交时间','订单完成时间','支付完成时间'] \n",
    "#'降价类优惠','是否安心购','旗帜颜色','平台优惠','发货时间'\n",
    "len(usecols)"
   ]
  },
  {
   "cell_type": "code",
   "execution_count": 162,
   "metadata": {},
   "outputs": [],
   "source": [
    "# data_7: 2023-05-16到2023-05-23\n",
    "# data_15:2023-05-01到2023-05-15\n",
    "# data_30:2023-04-01到2023-04-30"
   ]
  },
  {
   "cell_type": "code",
   "execution_count": 163,
   "metadata": {},
   "outputs": [],
   "source": [
    "data_7 = pd.read_csv('./近7天订单数据.csv',encoding='gbk',usecols=usecols)\n",
    "data_15 = pd.read_csv('./上半月订单数据.csv',encoding='gbk',usecols=usecols)\n",
    "data_30 = pd.read_csv('./上月订单数据.csv',encoding='gbk',usecols=usecols)"
   ]
  },
  {
   "cell_type": "markdown",
   "metadata": {},
   "source": [
    "## 数据格式转换"
   ]
  },
  {
   "cell_type": "code",
   "execution_count": 164,
   "metadata": {},
   "outputs": [],
   "source": [
    "#删除一些字段前后的空格\n",
    "for i in ['选购商品','商品规格','订单提交时间','支付方式','订单完成时间','支付完成时间','订单状态']:#,'发货时间'\n",
    "    data_7[i] = data_7[i].str.strip()\n",
    "    data_15[i] = data_15[i].str.strip()\n",
    "    data_30[i] = data_30[i].str.strip()\n",
    "\n",
    "#把时间从字符串转换为日期时间类型\n",
    "for j in ['订单提交时间','订单完成时间','支付完成时间']:#,'发货时间']:\n",
    "    data_7[j] = pd.to_datetime(data_7[j])\n",
    "    data_15[j] = pd.to_datetime(data_15[j])\n",
    "    data_30[j] = pd.to_datetime(data_30[j])"
   ]
  },
  {
   "cell_type": "markdown",
   "metadata": {},
   "source": [
    "## 数据拼接"
   ]
  },
  {
   "cell_type": "code",
   "execution_count": 165,
   "metadata": {},
   "outputs": [],
   "source": [
    "#2023-04-01到2023-05-15的数据\n",
    "data_45 = pd.concat([data_15,data_30],axis = 0)\n",
    "#所有数据\n",
    "data_52 = pd.concat([data_7,data_15,data_30],axis = 0)\n",
    "#重置索引\n",
    "data_45.reset_index(inplace=True)\n",
    "data_52.reset_index(inplace=True)"
   ]
  },
  {
   "attachments": {},
   "cell_type": "markdown",
   "metadata": {},
   "source": [
    "## 成功付款的订单数据"
   ]
  },
  {
   "cell_type": "code",
   "execution_count": 166,
   "metadata": {},
   "outputs": [],
   "source": [
    "# 成功付款的订单\n",
    "data_1 = data_52[data_52['订单状态']!='已关闭']\n",
    "data_suss = data_1[data_1['订单状态']!='待支付']"
   ]
  },
  {
   "cell_type": "markdown",
   "metadata": {},
   "source": [
    "# 近七日与一个半月前对比的统计分析"
   ]
  },
  {
   "cell_type": "markdown",
   "metadata": {},
   "source": [
    "## 日均销售额"
   ]
  },
  {
   "cell_type": "code",
   "execution_count": 167,
   "metadata": {},
   "outputs": [
    {
     "name": "stdout",
     "output_type": "stream",
     "text": [
      "近七天的日均支付额:166381,过去一个半月的日均销售额是:193499,下降了27118\n"
     ]
    }
   ],
   "source": [
    "# 日均销售额\n",
    "sales7 = data_7['订单应付金额'].sum()\n",
    "sales45 = data_45['订单应付金额'].sum()\n",
    "print(f'近七天的日均支付额:{int(sales7/7)},过去一个半月的日均销售额是:{int((sales45)/45)},下降了{int((sales45/45)-(sales7/7))}')"
   ]
  },
  {
   "cell_type": "markdown",
   "metadata": {},
   "source": [
    "## 售后发起率"
   ]
  },
  {
   "cell_type": "code",
   "execution_count": 168,
   "metadata": {},
   "outputs": [],
   "source": [
    "# 售后发起率\n",
    "after_sales7 = ((data_7.shape[0]-data_7['售后状态'].value_counts()['-'])/data_7.shape[0])\n",
    "after_sales30 = ((data_30.shape[0]-data_30['售后状态'].value_counts()['-'])/data_30.shape[0])\n",
    "after_sales45 = ((data_45.shape[0]-data_45['售后状态'].value_counts()['-'])/data_45.shape[0])"
   ]
  },
  {
   "cell_type": "code",
   "execution_count": 169,
   "metadata": {},
   "outputs": [
    {
     "name": "stdout",
     "output_type": "stream",
     "text": [
      "近七天的售后发起率:8.176%,过去一个半月的售后发起率是:10.442%,下降了2.265%\n"
     ]
    }
   ],
   "source": [
    "print(f'近七天的售后发起率:{after_sales7:.3%},过去一个半月的售后发起率是:{after_sales45:.3%},下降了{after_sales45-after_sales7:.3%}')"
   ]
  },
  {
   "cell_type": "markdown",
   "metadata": {},
   "source": [
    "# 整体性统计分析"
   ]
  },
  {
   "attachments": {},
   "cell_type": "markdown",
   "metadata": {},
   "source": [
    "## 所卖商品数量、总金额、客单价"
   ]
  },
  {
   "cell_type": "code",
   "execution_count": 170,
   "metadata": {},
   "outputs": [
    {
     "name": "stdout",
     "output_type": "stream",
     "text": [
      "所卖商品数量:108047、总金额:6864589.58、客单价:63.53\n"
     ]
    }
   ],
   "source": [
    "numb = (data_suss['商品数量'].sum())\n",
    "amount = data_suss['订单应付金额'].sum()\n",
    "unit_price = amount/numb\n",
    "print(f'所卖商品数量:{numb}、总金额:{amount}、客单价:{unit_price:.2f}')"
   ]
  },
  {
   "attachments": {},
   "cell_type": "markdown",
   "metadata": {},
   "source": [
    "## 查看下单量前十、倒十的商品"
   ]
  },
  {
   "cell_type": "code",
   "execution_count": 171,
   "metadata": {},
   "outputs": [
    {
     "data": {
      "text/plain": [
       "LIARJAN/莱尔健【标准】家庭综合训练拉力绳，一套练全身肌肉            45837\n",
       "【限量特惠专属】LIARJAN/莱尔健【标准】家庭综合训练拉力绳，一套练全身肌肉    36023\n",
       "【5根金属支撑条】支撑透气护腰带，四季通用，支撑减压 束腰收腹             26142\n",
       "【限量优惠专属】LIARJAN/莱尔健【标准】家庭综合训练拉力绳，一套练全身肌肉    18112\n",
       "【买一送二】新一代保暖护腰，双面磁石保暖，四根钢板支撑减压               10423\n",
       "【居家健身必备】11件综合训练拉力绳,一套搞定全身肌肉,4根80磅            2445\n",
       "LIARJAN/莱尔健计数握力器 不同握力阶段人群的锻炼神器 臂肌             573\n",
       "LIARJAN/莱尔健【升级】家庭综合训练拉力绳，一套搞定全身肌肉             411\n",
       "专业级全能运动护膝 男女膝盖篮球装备 关节半月板保护套跑步                 247\n",
       "LIARJAN/莱尔健「麒麟臂专用」拉力绳+握力器 强化力量 智能计数           196\n",
       "Name: 选购商品, dtype: int64"
      ]
     },
     "execution_count": 171,
     "metadata": {},
     "output_type": "execute_result"
    }
   ],
   "source": [
    "# 红榜\n",
    "data_52['选购商品'].value_counts()[:10] "
   ]
  },
  {
   "cell_type": "code",
   "execution_count": 172,
   "metadata": {},
   "outputs": [
    {
     "data": {
      "text/plain": [
       "LIARJAN/莱尔健「减肚子必备」拉力绳+呼啦圈暴汗燃脂腹肌马甲线    3\n",
       "LIARJAN/莱尔健呼啦圈 收腹减肥燃脂神器 专业美腰瘦腰肚子      3\n",
       "专业级全能运动护膝，保护爱运动的你                     3\n",
       "LIARJAN/莱尔健【基础】家庭综合训练拉力绳，一套练全身肌肉      2\n",
       "LIARJAN/莱尔健筋膜枪肌肉放松按摩锤成年人解压瘦腰腿健身器材     2\n",
       "腹部拉力器 脚蹬腹部腰部训练器材家用 拉力绳拉力器腹肌马甲线        2\n",
       "LIARJAN/莱尔健「增肌+减脂组合」拉力绳+跳绳            2\n",
       "【只卖质量不卖价格】自动回弹腹肌肘撑健腹轮训练器男女健身塑形        2\n",
       "颈椎按摩枕重力指压颈部按摩器枕颈肩颈椎家用按摩枕头牵引矫正器        1\n",
       "【第三代】瑜伽夹腿训练器 多功能夹腿健身瑜伽健身夹腿器           1\n",
       "Name: 选购商品, dtype: int64"
      ]
     },
     "execution_count": 172,
     "metadata": {},
     "output_type": "execute_result"
    }
   ],
   "source": [
    "# 黑榜\n",
    "data_52['选购商品'].value_counts()[-10:] "
   ]
  },
  {
   "cell_type": "code",
   "execution_count": 173,
   "metadata": {},
   "outputs": [],
   "source": [
    "# 商家应该与厂商沟通，重点备货销量以及销售规格最高的那些商品"
   ]
  },
  {
   "attachments": {},
   "cell_type": "markdown",
   "metadata": {},
   "source": [
    "## 分析金额前五十的订单"
   ]
  },
  {
   "cell_type": "code",
   "execution_count": 174,
   "metadata": {},
   "outputs": [
    {
     "data": {
      "text/plain": [
       "直播    25\n",
       "无     25\n",
       "Name: 广告渠道, dtype: int64"
      ]
     },
     "execution_count": 174,
     "metadata": {},
     "output_type": "execute_result"
    }
   ],
   "source": [
    "# 付款金额前五十的订单\n",
    "order_50 = data_suss.sort_values('订单应付金额')[-50:]\n",
    "order_50['广告渠道'].value_counts()\n",
    "# 可见订单金额前五十的订单中直播下单的达到了一半\n",
    "# 应投入更多于直播中"
   ]
  },
  {
   "cell_type": "code",
   "execution_count": 175,
   "metadata": {},
   "outputs": [
    {
     "data": {
      "text/plain": [
       "精选联盟    36\n",
       "小店自卖    12\n",
       "-        2\n",
       "Name: 流量来源, dtype: int64"
      ]
     },
     "execution_count": 175,
     "metadata": {},
     "output_type": "execute_result"
    }
   ],
   "source": [
    "order_50['流量来源'].value_counts()\n",
    "# 精选联盟是重大的流量来源，应好好把握"
   ]
  },
  {
   "attachments": {},
   "cell_type": "markdown",
   "metadata": {},
   "source": [
    "## 分析异常订单数据"
   ]
  },
  {
   "cell_type": "code",
   "execution_count": 176,
   "metadata": {},
   "outputs": [
    {
     "data": {
      "text/html": [
       "<div>\n",
       "<style scoped>\n",
       "    .dataframe tbody tr th:only-of-type {\n",
       "        vertical-align: middle;\n",
       "    }\n",
       "\n",
       "    .dataframe tbody tr th {\n",
       "        vertical-align: top;\n",
       "    }\n",
       "\n",
       "    .dataframe thead th {\n",
       "        text-align: right;\n",
       "    }\n",
       "</style>\n",
       "<table border=\"1\" class=\"dataframe\">\n",
       "  <thead>\n",
       "    <tr style=\"text-align: right;\">\n",
       "      <th></th>\n",
       "      <th>index</th>\n",
       "      <th>选购商品</th>\n",
       "      <th>商品规格</th>\n",
       "      <th>商品数量</th>\n",
       "      <th>商品单价</th>\n",
       "      <th>订单应付金额</th>\n",
       "      <th>支付方式</th>\n",
       "      <th>省</th>\n",
       "      <th>市</th>\n",
       "      <th>订单提交时间</th>\n",
       "      <th>订单完成时间</th>\n",
       "      <th>支付完成时间</th>\n",
       "      <th>APP渠道</th>\n",
       "      <th>流量来源</th>\n",
       "      <th>订单状态</th>\n",
       "      <th>售后状态</th>\n",
       "      <th>广告渠道</th>\n",
       "      <th>流量体裁</th>\n",
       "      <th>流量渠道</th>\n",
       "    </tr>\n",
       "  </thead>\n",
       "  <tbody>\n",
       "    <tr>\n",
       "      <th>168</th>\n",
       "      <td>168</td>\n",
       "      <td>【限量优惠专属】LIARJAN/莱尔健【标准】家庭综合训练拉力绳，一套练全身肌肉</td>\n",
       "      <td>【女生款】女生体重＜50kg：9件套2根绳40磅=29元</td>\n",
       "      <td>28</td>\n",
       "      <td>29.0</td>\n",
       "      <td>812.0</td>\n",
       "      <td>支付宝</td>\n",
       "      <td>广东省</td>\n",
       "      <td>广州市</td>\n",
       "      <td>2023-05-23 15:03:51</td>\n",
       "      <td>NaT</td>\n",
       "      <td>NaT</td>\n",
       "      <td>抖音</td>\n",
       "      <td>精选联盟</td>\n",
       "      <td>已关闭</td>\n",
       "      <td>-</td>\n",
       "      <td>无</td>\n",
       "      <td>数据将于第二天更新</td>\n",
       "      <td>数据将于第二天更新</td>\n",
       "    </tr>\n",
       "    <tr>\n",
       "      <th>169</th>\n",
       "      <td>169</td>\n",
       "      <td>【限量优惠专属】LIARJAN/莱尔健【标准】家庭综合训练拉力绳，一套练全身肌肉</td>\n",
       "      <td>【女生款】女生体重＜50kg：9件套2根绳40磅=29元</td>\n",
       "      <td>28</td>\n",
       "      <td>29.0</td>\n",
       "      <td>812.0</td>\n",
       "      <td>支付宝</td>\n",
       "      <td>广东省</td>\n",
       "      <td>广州市</td>\n",
       "      <td>2023-05-23 15:03:24</td>\n",
       "      <td>NaT</td>\n",
       "      <td>NaT</td>\n",
       "      <td>抖音</td>\n",
       "      <td>精选联盟</td>\n",
       "      <td>已关闭</td>\n",
       "      <td>-</td>\n",
       "      <td>无</td>\n",
       "      <td>数据将于第二天更新</td>\n",
       "      <td>数据将于第二天更新</td>\n",
       "    </tr>\n",
       "    <tr>\n",
       "      <th>170</th>\n",
       "      <td>170</td>\n",
       "      <td>【限量优惠专属】LIARJAN/莱尔健【标准】家庭综合训练拉力绳，一套练全身肌肉</td>\n",
       "      <td>【女生款】女生体重＜50kg：9件套2根绳40磅=29元</td>\n",
       "      <td>28</td>\n",
       "      <td>29.0</td>\n",
       "      <td>812.0</td>\n",
       "      <td>支付宝</td>\n",
       "      <td>广东省</td>\n",
       "      <td>广州市</td>\n",
       "      <td>2023-05-23 15:03:15</td>\n",
       "      <td>NaT</td>\n",
       "      <td>NaT</td>\n",
       "      <td>抖音</td>\n",
       "      <td>精选联盟</td>\n",
       "      <td>已关闭</td>\n",
       "      <td>-</td>\n",
       "      <td>无</td>\n",
       "      <td>数据将于第二天更新</td>\n",
       "      <td>数据将于第二天更新</td>\n",
       "    </tr>\n",
       "    <tr>\n",
       "      <th>171</th>\n",
       "      <td>171</td>\n",
       "      <td>【限量优惠专属】LIARJAN/莱尔健【标准】家庭综合训练拉力绳，一套练全身肌肉</td>\n",
       "      <td>【女生款】女生体重＜50kg：9件套2根绳40磅=29元</td>\n",
       "      <td>28</td>\n",
       "      <td>29.0</td>\n",
       "      <td>812.0</td>\n",
       "      <td>支付宝</td>\n",
       "      <td>广东省</td>\n",
       "      <td>广州市</td>\n",
       "      <td>2023-05-23 15:03:07</td>\n",
       "      <td>NaT</td>\n",
       "      <td>NaT</td>\n",
       "      <td>抖音</td>\n",
       "      <td>精选联盟</td>\n",
       "      <td>已关闭</td>\n",
       "      <td>-</td>\n",
       "      <td>无</td>\n",
       "      <td>数据将于第二天更新</td>\n",
       "      <td>数据将于第二天更新</td>\n",
       "    </tr>\n",
       "    <tr>\n",
       "      <th>172</th>\n",
       "      <td>172</td>\n",
       "      <td>【限量优惠专属】LIARJAN/莱尔健【标准】家庭综合训练拉力绳，一套练全身肌肉</td>\n",
       "      <td>【女生款】女生体重＜50kg：9件套2根绳40磅=29元</td>\n",
       "      <td>28</td>\n",
       "      <td>29.0</td>\n",
       "      <td>812.0</td>\n",
       "      <td>支付宝</td>\n",
       "      <td>广东省</td>\n",
       "      <td>广州市</td>\n",
       "      <td>2023-05-23 15:02:58</td>\n",
       "      <td>NaT</td>\n",
       "      <td>NaT</td>\n",
       "      <td>抖音</td>\n",
       "      <td>精选联盟</td>\n",
       "      <td>已关闭</td>\n",
       "      <td>-</td>\n",
       "      <td>无</td>\n",
       "      <td>数据将于第二天更新</td>\n",
       "      <td>数据将于第二天更新</td>\n",
       "    </tr>\n",
       "    <tr>\n",
       "      <th>...</th>\n",
       "      <td>...</td>\n",
       "      <td>...</td>\n",
       "      <td>...</td>\n",
       "      <td>...</td>\n",
       "      <td>...</td>\n",
       "      <td>...</td>\n",
       "      <td>...</td>\n",
       "      <td>...</td>\n",
       "      <td>...</td>\n",
       "      <td>...</td>\n",
       "      <td>...</td>\n",
       "      <td>...</td>\n",
       "      <td>...</td>\n",
       "      <td>...</td>\n",
       "      <td>...</td>\n",
       "      <td>...</td>\n",
       "      <td>...</td>\n",
       "      <td>...</td>\n",
       "      <td>...</td>\n",
       "    </tr>\n",
       "    <tr>\n",
       "      <th>140056</th>\n",
       "      <td>89314</td>\n",
       "      <td>【限量特惠专属】LIARJAN/莱尔健【标准】家庭综合训练拉力绳，一套练全身肌肉</td>\n",
       "      <td>【女生款】女生体重＜50kg：9件套2根绳40磅=29元</td>\n",
       "      <td>28</td>\n",
       "      <td>29.0</td>\n",
       "      <td>812.0</td>\n",
       "      <td>抖音月付</td>\n",
       "      <td>广东省</td>\n",
       "      <td>广州市</td>\n",
       "      <td>2023-04-01 10:34:06</td>\n",
       "      <td>NaT</td>\n",
       "      <td>NaT</td>\n",
       "      <td>抖音</td>\n",
       "      <td>精选联盟</td>\n",
       "      <td>已关闭</td>\n",
       "      <td>-</td>\n",
       "      <td>无</td>\n",
       "      <td>直播</td>\n",
       "      <td>关注来源</td>\n",
       "    </tr>\n",
       "    <tr>\n",
       "      <th>140057</th>\n",
       "      <td>89315</td>\n",
       "      <td>【限量特惠专属】LIARJAN/莱尔健【标准】家庭综合训练拉力绳，一套练全身肌肉</td>\n",
       "      <td>【女生款】女生体重＜50kg：9件套2根绳40磅=29元</td>\n",
       "      <td>28</td>\n",
       "      <td>29.0</td>\n",
       "      <td>812.0</td>\n",
       "      <td>抖音月付</td>\n",
       "      <td>广东省</td>\n",
       "      <td>广州市</td>\n",
       "      <td>2023-04-01 10:33:55</td>\n",
       "      <td>NaT</td>\n",
       "      <td>NaT</td>\n",
       "      <td>抖音</td>\n",
       "      <td>精选联盟</td>\n",
       "      <td>已关闭</td>\n",
       "      <td>-</td>\n",
       "      <td>无</td>\n",
       "      <td>直播</td>\n",
       "      <td>关注来源</td>\n",
       "    </tr>\n",
       "    <tr>\n",
       "      <th>140058</th>\n",
       "      <td>89316</td>\n",
       "      <td>【限量特惠专属】LIARJAN/莱尔健【标准】家庭综合训练拉力绳，一套练全身肌肉</td>\n",
       "      <td>【女生款】女生体重＜50kg：9件套2根绳40磅=29元</td>\n",
       "      <td>28</td>\n",
       "      <td>29.0</td>\n",
       "      <td>812.0</td>\n",
       "      <td>抖音月付</td>\n",
       "      <td>广东省</td>\n",
       "      <td>广州市</td>\n",
       "      <td>2023-04-01 10:33:46</td>\n",
       "      <td>NaT</td>\n",
       "      <td>NaT</td>\n",
       "      <td>抖音</td>\n",
       "      <td>精选联盟</td>\n",
       "      <td>已关闭</td>\n",
       "      <td>-</td>\n",
       "      <td>无</td>\n",
       "      <td>直播</td>\n",
       "      <td>关注来源</td>\n",
       "    </tr>\n",
       "    <tr>\n",
       "      <th>140060</th>\n",
       "      <td>89318</td>\n",
       "      <td>【限量特惠专属】LIARJAN/莱尔健【标准】家庭综合训练拉力绳，一套练全身肌肉</td>\n",
       "      <td>【女生款】女生体重＜50kg：9件套2根绳40磅=29元</td>\n",
       "      <td>28</td>\n",
       "      <td>29.0</td>\n",
       "      <td>812.0</td>\n",
       "      <td>抖音月付</td>\n",
       "      <td>广东省</td>\n",
       "      <td>广州市</td>\n",
       "      <td>2023-04-01 10:33:34</td>\n",
       "      <td>NaT</td>\n",
       "      <td>NaT</td>\n",
       "      <td>抖音</td>\n",
       "      <td>精选联盟</td>\n",
       "      <td>已关闭</td>\n",
       "      <td>-</td>\n",
       "      <td>无</td>\n",
       "      <td>直播</td>\n",
       "      <td>关注来源</td>\n",
       "    </tr>\n",
       "    <tr>\n",
       "      <th>140061</th>\n",
       "      <td>89319</td>\n",
       "      <td>【限量特惠专属】LIARJAN/莱尔健【标准】家庭综合训练拉力绳，一套练全身肌肉</td>\n",
       "      <td>【女生款】女生体重＜50kg：9件套2根绳40磅=29元</td>\n",
       "      <td>28</td>\n",
       "      <td>29.0</td>\n",
       "      <td>812.0</td>\n",
       "      <td>抖音月付</td>\n",
       "      <td>广东省</td>\n",
       "      <td>广州市</td>\n",
       "      <td>2023-04-01 10:33:18</td>\n",
       "      <td>NaT</td>\n",
       "      <td>NaT</td>\n",
       "      <td>抖音</td>\n",
       "      <td>精选联盟</td>\n",
       "      <td>已关闭</td>\n",
       "      <td>-</td>\n",
       "      <td>无</td>\n",
       "      <td>直播</td>\n",
       "      <td>关注来源</td>\n",
       "    </tr>\n",
       "  </tbody>\n",
       "</table>\n",
       "<p>1158 rows × 19 columns</p>\n",
       "</div>"
      ],
      "text/plain": [
       "        index                                      选购商品  \\\n",
       "168       168  【限量优惠专属】LIARJAN/莱尔健【标准】家庭综合训练拉力绳，一套练全身肌肉   \n",
       "169       169  【限量优惠专属】LIARJAN/莱尔健【标准】家庭综合训练拉力绳，一套练全身肌肉   \n",
       "170       170  【限量优惠专属】LIARJAN/莱尔健【标准】家庭综合训练拉力绳，一套练全身肌肉   \n",
       "171       171  【限量优惠专属】LIARJAN/莱尔健【标准】家庭综合训练拉力绳，一套练全身肌肉   \n",
       "172       172  【限量优惠专属】LIARJAN/莱尔健【标准】家庭综合训练拉力绳，一套练全身肌肉   \n",
       "...       ...                                       ...   \n",
       "140056  89314  【限量特惠专属】LIARJAN/莱尔健【标准】家庭综合训练拉力绳，一套练全身肌肉   \n",
       "140057  89315  【限量特惠专属】LIARJAN/莱尔健【标准】家庭综合训练拉力绳，一套练全身肌肉   \n",
       "140058  89316  【限量特惠专属】LIARJAN/莱尔健【标准】家庭综合训练拉力绳，一套练全身肌肉   \n",
       "140060  89318  【限量特惠专属】LIARJAN/莱尔健【标准】家庭综合训练拉力绳，一套练全身肌肉   \n",
       "140061  89319  【限量特惠专属】LIARJAN/莱尔健【标准】家庭综合训练拉力绳，一套练全身肌肉   \n",
       "\n",
       "                                商品规格  商品数量  商品单价  订单应付金额  支付方式    省    市  \\\n",
       "168     【女生款】女生体重＜50kg：9件套2根绳40磅=29元    28  29.0   812.0   支付宝  广东省  广州市   \n",
       "169     【女生款】女生体重＜50kg：9件套2根绳40磅=29元    28  29.0   812.0   支付宝  广东省  广州市   \n",
       "170     【女生款】女生体重＜50kg：9件套2根绳40磅=29元    28  29.0   812.0   支付宝  广东省  广州市   \n",
       "171     【女生款】女生体重＜50kg：9件套2根绳40磅=29元    28  29.0   812.0   支付宝  广东省  广州市   \n",
       "172     【女生款】女生体重＜50kg：9件套2根绳40磅=29元    28  29.0   812.0   支付宝  广东省  广州市   \n",
       "...                              ...   ...   ...     ...   ...  ...  ...   \n",
       "140056  【女生款】女生体重＜50kg：9件套2根绳40磅=29元    28  29.0   812.0  抖音月付  广东省  广州市   \n",
       "140057  【女生款】女生体重＜50kg：9件套2根绳40磅=29元    28  29.0   812.0  抖音月付  广东省  广州市   \n",
       "140058  【女生款】女生体重＜50kg：9件套2根绳40磅=29元    28  29.0   812.0  抖音月付  广东省  广州市   \n",
       "140060  【女生款】女生体重＜50kg：9件套2根绳40磅=29元    28  29.0   812.0  抖音月付  广东省  广州市   \n",
       "140061  【女生款】女生体重＜50kg：9件套2根绳40磅=29元    28  29.0   812.0  抖音月付  广东省  广州市   \n",
       "\n",
       "                    订单提交时间 订单完成时间 支付完成时间 APP渠道  流量来源 订单状态 售后状态 广告渠道  \\\n",
       "168    2023-05-23 15:03:51    NaT    NaT    抖音  精选联盟  已关闭    -    无   \n",
       "169    2023-05-23 15:03:24    NaT    NaT    抖音  精选联盟  已关闭    -    无   \n",
       "170    2023-05-23 15:03:15    NaT    NaT    抖音  精选联盟  已关闭    -    无   \n",
       "171    2023-05-23 15:03:07    NaT    NaT    抖音  精选联盟  已关闭    -    无   \n",
       "172    2023-05-23 15:02:58    NaT    NaT    抖音  精选联盟  已关闭    -    无   \n",
       "...                    ...    ...    ...   ...   ...  ...  ...  ...   \n",
       "140056 2023-04-01 10:34:06    NaT    NaT    抖音  精选联盟  已关闭    -    无   \n",
       "140057 2023-04-01 10:33:55    NaT    NaT    抖音  精选联盟  已关闭    -    无   \n",
       "140058 2023-04-01 10:33:46    NaT    NaT    抖音  精选联盟  已关闭    -    无   \n",
       "140060 2023-04-01 10:33:34    NaT    NaT    抖音  精选联盟  已关闭    -    无   \n",
       "140061 2023-04-01 10:33:18    NaT    NaT    抖音  精选联盟  已关闭    -    无   \n",
       "\n",
       "             流量体裁       流量渠道  \n",
       "168     数据将于第二天更新  数据将于第二天更新  \n",
       "169     数据将于第二天更新  数据将于第二天更新  \n",
       "170     数据将于第二天更新  数据将于第二天更新  \n",
       "171     数据将于第二天更新  数据将于第二天更新  \n",
       "172     数据将于第二天更新  数据将于第二天更新  \n",
       "...           ...        ...  \n",
       "140056         直播       关注来源  \n",
       "140057         直播       关注来源  \n",
       "140058         直播       关注来源  \n",
       "140060         直播       关注来源  \n",
       "140061         直播       关注来源  \n",
       "\n",
       "[1158 rows x 19 columns]"
      ]
     },
     "execution_count": 176,
     "metadata": {},
     "output_type": "execute_result"
    }
   ],
   "source": [
    "data_52[data_52['订单应付金额'] == 812][data_52['订单状态'] == '已关闭']\n",
    "# 付款金额为812的订单通过excel筛选可以明显看出全部均取消(52天里共有1158条)\n",
    "# 可以把该类用户进行拉黑处理(同一个地址下单多次、锁单且不付款的，下单时显示下单失败)"
   ]
  },
  {
   "attachments": {},
   "cell_type": "markdown",
   "metadata": {},
   "source": [
    "# 时间转化分析"
   ]
  },
  {
   "attachments": {},
   "cell_type": "markdown",
   "metadata": {},
   "source": [
    "## 下单到付款所用的用时"
   ]
  },
  {
   "cell_type": "code",
   "execution_count": 177,
   "metadata": {},
   "outputs": [
    {
     "data": {
      "text/plain": [
       "Timedelta('0 days 00:00:17.947233853')"
      ]
     },
     "execution_count": 177,
     "metadata": {},
     "output_type": "execute_result"
    }
   ],
   "source": [
    "#总的平均付款所用时间\n",
    "data_suss['付款所用时间'] = data_suss['支付完成时间'] - data_suss['订单提交时间']\n",
    "data_suss['付款所用时间'].sum() / data_suss['付款所用时间'].shape[0]"
   ]
  },
  {
   "cell_type": "code",
   "execution_count": 178,
   "metadata": {},
   "outputs": [],
   "source": [
    "#获取支付完成时间\n",
    "data_suss['月份'] = data_suss['支付完成时间'].dt.month\n",
    "data_suss['天数'] = data_suss['支付完成时间'].dt.day"
   ]
  },
  {
   "cell_type": "code",
   "execution_count": 179,
   "metadata": {},
   "outputs": [],
   "source": [
    "#从4-01作为第一天，5-23作为第53天得到天数\n",
    "data_suss['第x天'] = (data_suss['月份']-4)*30 + data_suss['天数']"
   ]
  },
  {
   "cell_type": "code",
   "execution_count": 180,
   "metadata": {},
   "outputs": [],
   "source": [
    "time = data_suss.groupby(data_suss['第x天']).agg({'付款所用时间':'sum'})\n",
    "times = (data_suss.groupby(data_suss['第x天']).agg({'付款所用时间':'count'}))"
   ]
  },
  {
   "cell_type": "code",
   "execution_count": 181,
   "metadata": {},
   "outputs": [
    {
     "data": {
      "text/html": [
       "<div>\n",
       "<style scoped>\n",
       "    .dataframe tbody tr th:only-of-type {\n",
       "        vertical-align: middle;\n",
       "    }\n",
       "\n",
       "    .dataframe tbody tr th {\n",
       "        vertical-align: top;\n",
       "    }\n",
       "\n",
       "    .dataframe thead th {\n",
       "        text-align: right;\n",
       "    }\n",
       "</style>\n",
       "<table border=\"1\" class=\"dataframe\">\n",
       "  <thead>\n",
       "    <tr style=\"text-align: right;\">\n",
       "      <th></th>\n",
       "      <th>总用时</th>\n",
       "      <th>总次数</th>\n",
       "      <th>平均付款用时</th>\n",
       "    </tr>\n",
       "    <tr>\n",
       "      <th>第x天</th>\n",
       "      <th></th>\n",
       "      <th></th>\n",
       "      <th></th>\n",
       "    </tr>\n",
       "  </thead>\n",
       "  <tbody>\n",
       "    <tr>\n",
       "      <th>1</th>\n",
       "      <td>0 days 15:49:42</td>\n",
       "      <td>2785</td>\n",
       "      <td>0 days 00:00:20.460323159</td>\n",
       "    </tr>\n",
       "    <tr>\n",
       "      <th>2</th>\n",
       "      <td>0 days 06:08:00</td>\n",
       "      <td>1226</td>\n",
       "      <td>0 days 00:00:18.009787928</td>\n",
       "    </tr>\n",
       "    <tr>\n",
       "      <th>3</th>\n",
       "      <td>0 days 09:49:13</td>\n",
       "      <td>1726</td>\n",
       "      <td>0 days 00:00:20.482618771</td>\n",
       "    </tr>\n",
       "    <tr>\n",
       "      <th>4</th>\n",
       "      <td>0 days 13:14:14</td>\n",
       "      <td>2553</td>\n",
       "      <td>0 days 00:00:18.665883274</td>\n",
       "    </tr>\n",
       "    <tr>\n",
       "      <th>5</th>\n",
       "      <td>0 days 06:06:13</td>\n",
       "      <td>1059</td>\n",
       "      <td>0 days 00:00:20.748819641</td>\n",
       "    </tr>\n",
       "    <tr>\n",
       "      <th>6</th>\n",
       "      <td>0 days 13:02:56</td>\n",
       "      <td>2396</td>\n",
       "      <td>0 days 00:00:19.606010016</td>\n",
       "    </tr>\n",
       "    <tr>\n",
       "      <th>7</th>\n",
       "      <td>0 days 13:40:16</td>\n",
       "      <td>2179</td>\n",
       "      <td>0 days 00:00:22.586507572</td>\n",
       "    </tr>\n",
       "    <tr>\n",
       "      <th>8</th>\n",
       "      <td>0 days 18:54:05</td>\n",
       "      <td>3834</td>\n",
       "      <td>0 days 00:00:17.747782994</td>\n",
       "    </tr>\n",
       "    <tr>\n",
       "      <th>9</th>\n",
       "      <td>0 days 13:14:32</td>\n",
       "      <td>2107</td>\n",
       "      <td>0 days 00:00:22.625533934</td>\n",
       "    </tr>\n",
       "    <tr>\n",
       "      <th>10</th>\n",
       "      <td>0 days 17:35:30</td>\n",
       "      <td>3374</td>\n",
       "      <td>0 days 00:00:18.770005927</td>\n",
       "    </tr>\n",
       "    <tr>\n",
       "      <th>11</th>\n",
       "      <td>0 days 17:18:59</td>\n",
       "      <td>3327</td>\n",
       "      <td>0 days 00:00:18.737300871</td>\n",
       "    </tr>\n",
       "    <tr>\n",
       "      <th>12</th>\n",
       "      <td>0 days 17:21:35</td>\n",
       "      <td>3572</td>\n",
       "      <td>0 days 00:00:17.495800671</td>\n",
       "    </tr>\n",
       "    <tr>\n",
       "      <th>13</th>\n",
       "      <td>0 days 14:01:15</td>\n",
       "      <td>2782</td>\n",
       "      <td>0 days 00:00:18.143421998</td>\n",
       "    </tr>\n",
       "    <tr>\n",
       "      <th>14</th>\n",
       "      <td>0 days 15:28:28</td>\n",
       "      <td>2963</td>\n",
       "      <td>0 days 00:00:18.801214984</td>\n",
       "    </tr>\n",
       "    <tr>\n",
       "      <th>15</th>\n",
       "      <td>0 days 12:41:57</td>\n",
       "      <td>2323</td>\n",
       "      <td>0 days 00:00:19.680154972</td>\n",
       "    </tr>\n",
       "    <tr>\n",
       "      <th>16</th>\n",
       "      <td>0 days 07:38:58</td>\n",
       "      <td>1417</td>\n",
       "      <td>0 days 00:00:19.434015525</td>\n",
       "    </tr>\n",
       "    <tr>\n",
       "      <th>17</th>\n",
       "      <td>0 days 11:06:53</td>\n",
       "      <td>2201</td>\n",
       "      <td>0 days 00:00:18.179463880</td>\n",
       "    </tr>\n",
       "    <tr>\n",
       "      <th>18</th>\n",
       "      <td>0 days 08:20:34</td>\n",
       "      <td>2066</td>\n",
       "      <td>0 days 00:00:14.537270087</td>\n",
       "    </tr>\n",
       "    <tr>\n",
       "      <th>19</th>\n",
       "      <td>0 days 08:48:54</td>\n",
       "      <td>1929</td>\n",
       "      <td>0 days 00:00:16.451010886</td>\n",
       "    </tr>\n",
       "    <tr>\n",
       "      <th>20</th>\n",
       "      <td>0 days 10:25:19</td>\n",
       "      <td>2309</td>\n",
       "      <td>0 days 00:00:16.249025552</td>\n",
       "    </tr>\n",
       "    <tr>\n",
       "      <th>21</th>\n",
       "      <td>0 days 09:58:10</td>\n",
       "      <td>2204</td>\n",
       "      <td>0 days 00:00:16.284029038</td>\n",
       "    </tr>\n",
       "    <tr>\n",
       "      <th>22</th>\n",
       "      <td>0 days 11:31:08</td>\n",
       "      <td>2483</td>\n",
       "      <td>0 days 00:00:16.700765203</td>\n",
       "    </tr>\n",
       "    <tr>\n",
       "      <th>23</th>\n",
       "      <td>0 days 07:14:56</td>\n",
       "      <td>1628</td>\n",
       "      <td>0 days 00:00:16.029484029</td>\n",
       "    </tr>\n",
       "    <tr>\n",
       "      <th>24</th>\n",
       "      <td>0 days 12:14:29</td>\n",
       "      <td>2732</td>\n",
       "      <td>0 days 00:00:16.130673499</td>\n",
       "    </tr>\n",
       "    <tr>\n",
       "      <th>25</th>\n",
       "      <td>0 days 10:34:35</td>\n",
       "      <td>2186</td>\n",
       "      <td>0 days 00:00:17.417657822</td>\n",
       "    </tr>\n",
       "    <tr>\n",
       "      <th>26</th>\n",
       "      <td>0 days 11:09:52</td>\n",
       "      <td>2348</td>\n",
       "      <td>0 days 00:00:17.117546848</td>\n",
       "    </tr>\n",
       "    <tr>\n",
       "      <th>27</th>\n",
       "      <td>0 days 11:17:00</td>\n",
       "      <td>2209</td>\n",
       "      <td>0 days 00:00:18.388411045</td>\n",
       "    </tr>\n",
       "    <tr>\n",
       "      <th>28</th>\n",
       "      <td>0 days 06:14:52</td>\n",
       "      <td>1217</td>\n",
       "      <td>0 days 00:00:18.481511914</td>\n",
       "    </tr>\n",
       "    <tr>\n",
       "      <th>29</th>\n",
       "      <td>0 days 08:06:02</td>\n",
       "      <td>1580</td>\n",
       "      <td>0 days 00:00:18.456962025</td>\n",
       "    </tr>\n",
       "    <tr>\n",
       "      <th>30</th>\n",
       "      <td>0 days 08:40:59</td>\n",
       "      <td>1888</td>\n",
       "      <td>0 days 00:00:16.556673728</td>\n",
       "    </tr>\n",
       "    <tr>\n",
       "      <th>31</th>\n",
       "      <td>0 days 08:33:23</td>\n",
       "      <td>1769</td>\n",
       "      <td>0 days 00:00:17.412662521</td>\n",
       "    </tr>\n",
       "    <tr>\n",
       "      <th>32</th>\n",
       "      <td>0 days 06:25:25</td>\n",
       "      <td>1284</td>\n",
       "      <td>0 days 00:00:18.010124610</td>\n",
       "    </tr>\n",
       "    <tr>\n",
       "      <th>33</th>\n",
       "      <td>0 days 06:38:47</td>\n",
       "      <td>1342</td>\n",
       "      <td>0 days 00:00:17.829359165</td>\n",
       "    </tr>\n",
       "    <tr>\n",
       "      <th>34</th>\n",
       "      <td>0 days 05:18:29</td>\n",
       "      <td>1170</td>\n",
       "      <td>0 days 00:00:16.332478632</td>\n",
       "    </tr>\n",
       "    <tr>\n",
       "      <th>35</th>\n",
       "      <td>0 days 12:49:37</td>\n",
       "      <td>2368</td>\n",
       "      <td>0 days 00:00:19.500422297</td>\n",
       "    </tr>\n",
       "    <tr>\n",
       "      <th>36</th>\n",
       "      <td>0 days 09:35:18</td>\n",
       "      <td>2221</td>\n",
       "      <td>0 days 00:00:15.541647906</td>\n",
       "    </tr>\n",
       "    <tr>\n",
       "      <th>37</th>\n",
       "      <td>0 days 09:22:35</td>\n",
       "      <td>1994</td>\n",
       "      <td>0 days 00:00:16.928284854</td>\n",
       "    </tr>\n",
       "    <tr>\n",
       "      <th>38</th>\n",
       "      <td>0 days 12:52:16</td>\n",
       "      <td>2656</td>\n",
       "      <td>0 days 00:00:17.445783132</td>\n",
       "    </tr>\n",
       "    <tr>\n",
       "      <th>39</th>\n",
       "      <td>0 days 10:07:39</td>\n",
       "      <td>2147</td>\n",
       "      <td>0 days 00:00:16.981369352</td>\n",
       "    </tr>\n",
       "    <tr>\n",
       "      <th>40</th>\n",
       "      <td>0 days 10:12:04</td>\n",
       "      <td>1963</td>\n",
       "      <td>0 days 00:00:18.708099847</td>\n",
       "    </tr>\n",
       "    <tr>\n",
       "      <th>41</th>\n",
       "      <td>0 days 06:11:31</td>\n",
       "      <td>1435</td>\n",
       "      <td>0 days 00:00:15.533797909</td>\n",
       "    </tr>\n",
       "    <tr>\n",
       "      <th>42</th>\n",
       "      <td>0 days 08:27:00</td>\n",
       "      <td>1471</td>\n",
       "      <td>0 days 00:00:20.679809653</td>\n",
       "    </tr>\n",
       "    <tr>\n",
       "      <th>43</th>\n",
       "      <td>0 days 06:34:24</td>\n",
       "      <td>1204</td>\n",
       "      <td>0 days 00:00:19.654485049</td>\n",
       "    </tr>\n",
       "    <tr>\n",
       "      <th>44</th>\n",
       "      <td>0 days 03:10:52</td>\n",
       "      <td>758</td>\n",
       "      <td>0 days 00:00:15.108179419</td>\n",
       "    </tr>\n",
       "    <tr>\n",
       "      <th>45</th>\n",
       "      <td>0 days 09:23:25</td>\n",
       "      <td>1857</td>\n",
       "      <td>0 days 00:00:18.204092622</td>\n",
       "    </tr>\n",
       "    <tr>\n",
       "      <th>46</th>\n",
       "      <td>0 days 05:48:58</td>\n",
       "      <td>1309</td>\n",
       "      <td>0 days 00:00:15.995416348</td>\n",
       "    </tr>\n",
       "    <tr>\n",
       "      <th>47</th>\n",
       "      <td>0 days 08:35:01</td>\n",
       "      <td>1790</td>\n",
       "      <td>0 days 00:00:17.263128491</td>\n",
       "    </tr>\n",
       "    <tr>\n",
       "      <th>48</th>\n",
       "      <td>0 days 08:00:05</td>\n",
       "      <td>1573</td>\n",
       "      <td>0 days 00:00:18.312142403</td>\n",
       "    </tr>\n",
       "    <tr>\n",
       "      <th>49</th>\n",
       "      <td>0 days 10:26:27</td>\n",
       "      <td>2055</td>\n",
       "      <td>0 days 00:00:18.290510948</td>\n",
       "    </tr>\n",
       "    <tr>\n",
       "      <th>50</th>\n",
       "      <td>0 days 10:39:12</td>\n",
       "      <td>2357</td>\n",
       "      <td>0 days 00:00:16.271531607</td>\n",
       "    </tr>\n",
       "    <tr>\n",
       "      <th>51</th>\n",
       "      <td>0 days 05:22:41</td>\n",
       "      <td>1179</td>\n",
       "      <td>0 days 00:00:16.421543681</td>\n",
       "    </tr>\n",
       "    <tr>\n",
       "      <th>52</th>\n",
       "      <td>0 days 10:11:43</td>\n",
       "      <td>2299</td>\n",
       "      <td>0 days 00:00:15.964767290</td>\n",
       "    </tr>\n",
       "    <tr>\n",
       "      <th>53</th>\n",
       "      <td>0 days 05:33:00</td>\n",
       "      <td>1144</td>\n",
       "      <td>0 days 00:00:17.465034965</td>\n",
       "    </tr>\n",
       "  </tbody>\n",
       "</table>\n",
       "</div>"
      ],
      "text/plain": [
       "                总用时   总次数                    平均付款用时\n",
       "第x天                                                \n",
       "1   0 days 15:49:42  2785 0 days 00:00:20.460323159\n",
       "2   0 days 06:08:00  1226 0 days 00:00:18.009787928\n",
       "3   0 days 09:49:13  1726 0 days 00:00:20.482618771\n",
       "4   0 days 13:14:14  2553 0 days 00:00:18.665883274\n",
       "5   0 days 06:06:13  1059 0 days 00:00:20.748819641\n",
       "6   0 days 13:02:56  2396 0 days 00:00:19.606010016\n",
       "7   0 days 13:40:16  2179 0 days 00:00:22.586507572\n",
       "8   0 days 18:54:05  3834 0 days 00:00:17.747782994\n",
       "9   0 days 13:14:32  2107 0 days 00:00:22.625533934\n",
       "10  0 days 17:35:30  3374 0 days 00:00:18.770005927\n",
       "11  0 days 17:18:59  3327 0 days 00:00:18.737300871\n",
       "12  0 days 17:21:35  3572 0 days 00:00:17.495800671\n",
       "13  0 days 14:01:15  2782 0 days 00:00:18.143421998\n",
       "14  0 days 15:28:28  2963 0 days 00:00:18.801214984\n",
       "15  0 days 12:41:57  2323 0 days 00:00:19.680154972\n",
       "16  0 days 07:38:58  1417 0 days 00:00:19.434015525\n",
       "17  0 days 11:06:53  2201 0 days 00:00:18.179463880\n",
       "18  0 days 08:20:34  2066 0 days 00:00:14.537270087\n",
       "19  0 days 08:48:54  1929 0 days 00:00:16.451010886\n",
       "20  0 days 10:25:19  2309 0 days 00:00:16.249025552\n",
       "21  0 days 09:58:10  2204 0 days 00:00:16.284029038\n",
       "22  0 days 11:31:08  2483 0 days 00:00:16.700765203\n",
       "23  0 days 07:14:56  1628 0 days 00:00:16.029484029\n",
       "24  0 days 12:14:29  2732 0 days 00:00:16.130673499\n",
       "25  0 days 10:34:35  2186 0 days 00:00:17.417657822\n",
       "26  0 days 11:09:52  2348 0 days 00:00:17.117546848\n",
       "27  0 days 11:17:00  2209 0 days 00:00:18.388411045\n",
       "28  0 days 06:14:52  1217 0 days 00:00:18.481511914\n",
       "29  0 days 08:06:02  1580 0 days 00:00:18.456962025\n",
       "30  0 days 08:40:59  1888 0 days 00:00:16.556673728\n",
       "31  0 days 08:33:23  1769 0 days 00:00:17.412662521\n",
       "32  0 days 06:25:25  1284 0 days 00:00:18.010124610\n",
       "33  0 days 06:38:47  1342 0 days 00:00:17.829359165\n",
       "34  0 days 05:18:29  1170 0 days 00:00:16.332478632\n",
       "35  0 days 12:49:37  2368 0 days 00:00:19.500422297\n",
       "36  0 days 09:35:18  2221 0 days 00:00:15.541647906\n",
       "37  0 days 09:22:35  1994 0 days 00:00:16.928284854\n",
       "38  0 days 12:52:16  2656 0 days 00:00:17.445783132\n",
       "39  0 days 10:07:39  2147 0 days 00:00:16.981369352\n",
       "40  0 days 10:12:04  1963 0 days 00:00:18.708099847\n",
       "41  0 days 06:11:31  1435 0 days 00:00:15.533797909\n",
       "42  0 days 08:27:00  1471 0 days 00:00:20.679809653\n",
       "43  0 days 06:34:24  1204 0 days 00:00:19.654485049\n",
       "44  0 days 03:10:52   758 0 days 00:00:15.108179419\n",
       "45  0 days 09:23:25  1857 0 days 00:00:18.204092622\n",
       "46  0 days 05:48:58  1309 0 days 00:00:15.995416348\n",
       "47  0 days 08:35:01  1790 0 days 00:00:17.263128491\n",
       "48  0 days 08:00:05  1573 0 days 00:00:18.312142403\n",
       "49  0 days 10:26:27  2055 0 days 00:00:18.290510948\n",
       "50  0 days 10:39:12  2357 0 days 00:00:16.271531607\n",
       "51  0 days 05:22:41  1179 0 days 00:00:16.421543681\n",
       "52  0 days 10:11:43  2299 0 days 00:00:15.964767290\n",
       "53  0 days 05:33:00  1144 0 days 00:00:17.465034965"
      ]
     },
     "execution_count": 181,
     "metadata": {},
     "output_type": "execute_result"
    }
   ],
   "source": [
    "tim = pd.DataFrame()\n",
    "tim['总用时'] = time\n",
    "tim['总次数'] = times\n",
    "tim['平均付款用时'] = tim['总用时']/tim['总次数']#.dt.total_seconds()\n",
    "tim\n",
    "# 可见付款成功订单平均用时都在16-21秒左右，属于正常范围，可以预测用户下单时遇到网络不流畅、服务器卡顿的可能性较小"
   ]
  },
  {
   "attachments": {},
   "cell_type": "markdown",
   "metadata": {},
   "source": [
    "# 退款数据分析"
   ]
  },
  {
   "cell_type": "code",
   "execution_count": 182,
   "metadata": {},
   "outputs": [
    {
     "data": {
      "text/plain": [
       "短视频          7257\n",
       "直播           6421\n",
       "商品卡           400\n",
       "其他            155\n",
       "数据将于第二天更新      80\n",
       "Name: 流量体裁, dtype: int64"
      ]
     },
     "execution_count": 182,
     "metadata": {},
     "output_type": "execute_result"
    }
   ],
   "source": [
    "# data_refund：开启售后的订单\n",
    "data_refund = data_52[data_52['售后状态'] != '-']\n",
    "data_refund['流量体裁'].value_counts()"
   ]
  },
  {
   "cell_type": "code",
   "execution_count": 183,
   "metadata": {},
   "outputs": [
    {
     "data": {
      "text/plain": [
       "短视频          77258\n",
       "直播           55969\n",
       "商品卡           3919\n",
       "其他            2199\n",
       "数据将于第二天更新     1436\n",
       "Name: 流量体裁, dtype: int64"
      ]
     },
     "execution_count": 183,
     "metadata": {},
     "output_type": "execute_result"
    }
   ],
   "source": [
    "data_52['流量体裁'].value_counts()"
   ]
  },
  {
   "cell_type": "code",
   "execution_count": 184,
   "metadata": {},
   "outputs": [
    {
     "data": {
      "text/html": [
       "<div>\n",
       "<style scoped>\n",
       "    .dataframe tbody tr th:only-of-type {\n",
       "        vertical-align: middle;\n",
       "    }\n",
       "\n",
       "    .dataframe tbody tr th {\n",
       "        vertical-align: top;\n",
       "    }\n",
       "\n",
       "    .dataframe thead th {\n",
       "        text-align: right;\n",
       "    }\n",
       "</style>\n",
       "<table border=\"1\" class=\"dataframe\">\n",
       "  <thead>\n",
       "    <tr style=\"text-align: right;\">\n",
       "      <th></th>\n",
       "      <th>总单量</th>\n",
       "      <th>总退货数</th>\n",
       "      <th>渠道退货率</th>\n",
       "    </tr>\n",
       "  </thead>\n",
       "  <tbody>\n",
       "    <tr>\n",
       "      <th>短视频</th>\n",
       "      <td>7257</td>\n",
       "      <td>77258</td>\n",
       "      <td>9.39%</td>\n",
       "    </tr>\n",
       "    <tr>\n",
       "      <th>直播</th>\n",
       "      <td>6421</td>\n",
       "      <td>55969</td>\n",
       "      <td>11.47%</td>\n",
       "    </tr>\n",
       "    <tr>\n",
       "      <th>商品卡</th>\n",
       "      <td>400</td>\n",
       "      <td>3919</td>\n",
       "      <td>10.21%</td>\n",
       "    </tr>\n",
       "    <tr>\n",
       "      <th>其他</th>\n",
       "      <td>155</td>\n",
       "      <td>2199</td>\n",
       "      <td>7.05%</td>\n",
       "    </tr>\n",
       "    <tr>\n",
       "      <th>数据将于第二天更新</th>\n",
       "      <td>80</td>\n",
       "      <td>1436</td>\n",
       "      <td>5.57%</td>\n",
       "    </tr>\n",
       "  </tbody>\n",
       "</table>\n",
       "</div>"
      ],
      "text/plain": [
       "            总单量   总退货数   渠道退货率\n",
       "短视频        7257  77258   9.39%\n",
       "直播         6421  55969  11.47%\n",
       "商品卡         400   3919  10.21%\n",
       "其他          155   2199   7.05%\n",
       "数据将于第二天更新    80   1436   5.57%"
      ]
     },
     "execution_count": 184,
     "metadata": {},
     "output_type": "execute_result"
    }
   ],
   "source": [
    "refund = pd.DataFrame()\n",
    "refund['总单量'] = data_refund['流量体裁'].value_counts()\n",
    "refund['总退货数'] = data_52['流量体裁'].value_counts()\n",
    "refund['渠道退货率'] = ((refund['总单量']/refund['总退货数'])*100).round(2).astype(str)+'%'\n",
    "refund\n",
    "# 短视频、直播、商品卡、退货率都较为高，可增加这三个场景商品描述的真实性，减少顾客不必要退货带来的商家运费亏损"
   ]
  },
  {
   "attachments": {},
   "cell_type": "markdown",
   "metadata": {},
   "source": [
    "# 决策建议"
   ]
  },
  {
   "attachments": {},
   "cell_type": "markdown",
   "metadata": {},
   "source": [
    "## 查看地区的订单情况"
   ]
  },
  {
   "cell_type": "code",
   "execution_count": 185,
   "metadata": {},
   "outputs": [],
   "source": [
    "def area(x):\n",
    "    if x in ['广东省','广西壮族自治区','海南省','福建省']:\n",
    "        return '华南地区'\n",
    "    elif x in ['湖北省','湖南省','河南省','江西省']:\n",
    "        return '华中地区'\n",
    "    elif x in ['山东省','江苏省','安徽省','浙江省','上海市']:\n",
    "        return '华东地区'\n",
    "    elif x in ['北京市','天津市','河北省','山西省','内蒙古自治区']:\n",
    "        return '华北地区'\n",
    "    elif x in ['黑龙江省','吉林省','辽宁省']:\n",
    "        return '东北三省'\n",
    "    elif x in ['陕西省','甘肃省','宁夏回族自治区','青海省','新疆维吾尔自治区']:\n",
    "        return '西北地区'\n",
    "    elif x in ['云南省','贵州省','重庆市','四川省','西藏藏族自治区']:\n",
    "        return '西南地区'\n",
    "    else:\n",
    "        pass"
   ]
  },
  {
   "cell_type": "code",
   "execution_count": 186,
   "metadata": {},
   "outputs": [
    {
     "data": {
      "text/plain": [
       "华东地区    46183\n",
       "华南地区    27186\n",
       "华中地区    20096\n",
       "西南地区    17335\n",
       "华北地区    15120\n",
       "西北地区     7983\n",
       "东北三省     6877\n",
       "Name: 所属地区, dtype: int64"
      ]
     },
     "execution_count": 186,
     "metadata": {},
     "output_type": "execute_result"
    }
   ],
   "source": [
    "data_52['所属地区'] = data_52['省'].apply(area)\n",
    "data_52['所属地区'].value_counts()\n",
    "# 购买地址主要集中在华东华南华中一带地区\n",
    "# 所以可以主要在三个地区的折中交汇处设立发货仓库(如江西-福建一带)来减小物流成本。"
   ]
  },
  {
   "attachments": {},
   "cell_type": "markdown",
   "metadata": {},
   "source": [
    "## 查看用户活跃的时间段并投入更多于直播"
   ]
  },
  {
   "cell_type": "code",
   "execution_count": 187,
   "metadata": {},
   "outputs": [
    {
     "data": {
      "text/plain": [
       "12    11704\n",
       "20    10006\n",
       "11     9535\n",
       "13     9031\n",
       "19     8396\n",
       "14     8264\n",
       "21     7253\n",
       "Name: 订单提交时间, dtype: int64"
      ]
     },
     "execution_count": 187,
     "metadata": {},
     "output_type": "execute_result"
    }
   ],
   "source": [
    "data_52['订单提交时间'].dt.hour.value_counts()[:7]\n",
    "# 11.12.13.14 19.20.21   \n",
    "# 这些时段明显活跃用户数很高,建议在这些时间段可以加大直播运营的投入\n",
    "# 让那些犹豫下单的用户对产品有更加全面的了解,提高成单率\n",
    "# 用最低的成本让最更的用户了解产品"
   ]
  }
 ],
 "metadata": {
  "kernelspec": {
   "display_name": "base",
   "language": "python",
   "name": "python3"
  },
  "language_info": {
   "codemirror_mode": {
    "name": "ipython",
    "version": 3
   },
   "file_extension": ".py",
   "mimetype": "text/x-python",
   "name": "python",
   "nbconvert_exporter": "python",
   "pygments_lexer": "ipython3",
   "version": "3.10.9"
  },
  "orig_nbformat": 4
 },
 "nbformat": 4,
 "nbformat_minor": 2
}
