{
 "cells": [
  {
   "attachments": {},
   "cell_type": "markdown",
   "metadata": {},
   "source": [
    "1.通过input输入一个字符，并判断它的类型，然后输出它是什么类型。 可以无限次输入，直至自己输入‘退出’才会结束。 \n",
    "\n",
    "例如：\n",
    "[1,24] --->print('您输入的是列表')\n",
    "Csd --->print('您输入的是字符串')"
   ]
  },
  {
   "cell_type": "code",
   "execution_count": 2,
   "metadata": {},
   "outputs": [],
   "source": [
    "while True:\n",
    "    lis = input(\"请输入：\")\n",
    "    try:\n",
    "        if lis == '退出':\n",
    "            break\n",
    "        elif type(eval(lis))==int:\n",
    "            print('您输入的是整数')\n",
    "        elif type(eval(lis))==float:\n",
    "            print('您输入的是小数')\n",
    "        elif type(eval(lis))==list:\n",
    "            print('您输入的是列表')\n",
    "        elif type(eval(lis))==dict:\n",
    "            print('您输入的是字典')\n",
    "        elif type(eval(lis))==set:\n",
    "            print('您输入的是集合')\n",
    "        elif type(eval(lis))==tuple:\n",
    "            print('您输入的是元组')\n",
    "    except:\n",
    "        print('您输入的是字符串')"
   ]
  },
  {
   "attachments": {},
   "cell_type": "markdown",
   "metadata": {},
   "source": [
    "2.将字符串 去重并从小到大排序输出， 排序可用sorted()。 例如\n",
    "s = “ajldjlajfdljfddd”---->”adfjl”。"
   ]
  },
  {
   "cell_type": "code",
   "execution_count": 39,
   "metadata": {},
   "outputs": [
    {
     "name": "stdout",
     "output_type": "stream",
     "text": [
      "adfjl\n"
     ]
    }
   ],
   "source": [
    "s = 'jldjlajfdljfddd'\n",
    "s1 = list(set(s))\n",
    "s2 = sorted(s1)\n",
    "s2\n",
    "s3 = print(\"\".join(s2))"
   ]
  },
  {
   "attachments": {},
   "cell_type": "markdown",
   "metadata": {},
   "source": [
    "3.根据num.txt，设计函数，计算每个小列表里面的平均人数。 例如：\n",
    "\n",
    "['1000人以上'] ----> 1000\n",
    "['50-150人'] ----> （150+50）/2 = 100,\n",
    "[''] ----> 0\n",
    "最终结果保存在列表中。\n",
    "\n",
    "例如：[['50-150人'], [''],['1000人以上'] ] --> [100,0,1000,...]"
   ]
  },
  {
   "cell_type": "code",
   "execution_count": 35,
   "metadata": {},
   "outputs": [
    {
     "data": {
      "text/plain": [
       "[100.0, 10000, 325.0, 10000, 750.0, 10000, 7500.0, 750.0, 325.0]"
      ]
     },
     "execution_count": 35,
     "metadata": {},
     "output_type": "execute_result"
    }
   ],
   "source": [
    "with open('../python基础/data/num.txt', mode='r',encoding='gbk') as f:\n",
    "    # read()读入的数据是字符串，通过eval将它还原为列表,再把列表中每个字符串也还原为列表\n",
    "    data = [eval(i) for i in eval(f.read())]\n",
    "def myclear(x):\n",
    "    '''\n",
    "    输入一个列表类型的x, 例如：['1500人以上']、['1500-500人']、['不超过500人']等\n",
    "    输出对应的计算结果\n",
    "    '''\n",
    "    if x==[] or x==['']: # []、['']直接为0\n",
    "        return 0\n",
    "    else: # 其他情况：先删除多余字符再分割\n",
    "        y = x[0].replace('少于','').replace('人','').replace('以上','')\n",
    "        y = y.split('-')\n",
    "        if len(y)==1: # 分割结果只有一个, ['1500人以上']-->['1500']，只取数值本身\n",
    "             return eval(y[0])\n",
    "        else: # 分割结果有两个，['100-200人']-->['100','200']，取两个的平均值\n",
    "            return (int(y[0]) + int(y[1]))/2\n",
    "\n",
    "myclear(['1500人以上'])\n",
    "data2 = [myclear(i) for i in data] # 列表推导式对每个字符串进行转换\n",
    "data2[1:10]"
   ]
  },
  {
   "attachments": {},
   "cell_type": "markdown",
   "metadata": {},
   "source": [
    "4.定义了一个 Car 类，它有 brand、model 和 year 属性，表示汽车的品牌、型号和制造年份。还有 speed 属性表示当前车速。\n",
    "\n",
    "类中定义三个方法：accelerate（加速）、brake（刹车）和 get_speed（获取速度）。\n",
    "\n",
    "accelerate可以输入加速参数increment表示加速了多少，输出经过加速后汽车的速度brake可以输入参数decrement表示减速了多少，\n",
    "\n",
    "输出减速后的汽车速度get_speed可以获取当前汽车的速度"
   ]
  },
  {
   "cell_type": "code",
   "execution_count": 18,
   "metadata": {},
   "outputs": [],
   "source": [
    "class Car:\n",
    "    def __init__(self,brand,model,year,speed):\n",
    "        self.brand = brand\n",
    "        self.model = model\n",
    "        self.year = year\n",
    "        self.speed = speed\n",
    "\n",
    "    def accelerate(self,increment):\n",
    "        print(f'增加了{increment}点速度')\n",
    "        self.speed = self.speed + increment\n",
    "        print(f'当前速度为{self.speed}')\n",
    "\n",
    "    def brake(self,decrement):\n",
    "        print(f'减少了{decrement}点速度')\n",
    "        self.speed -= decrement\n",
    "        if self.speed <= 0:\n",
    "            self.speed = 0\n",
    "        print(f'当前速度为{self.speed}')\n",
    "\n",
    "    def get_speed(self):\n",
    "        return self.speed"
   ]
  },
  {
   "cell_type": "code",
   "execution_count": 20,
   "metadata": {},
   "outputs": [
    {
     "name": "stdout",
     "output_type": "stream",
     "text": [
      "增加了60点速度\n",
      "当前速度为80\n",
      "当前速度: 80 mph\n",
      "减少了30点速度\n",
      "当前速度为50\n",
      "当前速度: 50 mph\n"
     ]
    }
   ],
   "source": [
    "# 创建一个 Car 对象\n",
    "my_car = Car(\"Toyota\", \"Camry\", 2022,20)\n",
    "\n",
    "# 加速 60 mph\n",
    "my_car.accelerate(60)\n",
    "\n",
    "# 输出当前速度\n",
    "print(\"当前速度:\", my_car.get_speed(), \"mph\")\n",
    "\n",
    "# 刹车减速 30 mph\n",
    "my_car.brake(30)\n",
    "\n",
    "# 输出当前速度\n",
    "print(\"当前速度:\", my_car.get_speed(), \"mph\")"
   ]
  },
  {
   "attachments": {},
   "cell_type": "markdown",
   "metadata": {},
   "source": [
    "5.内容判断\n",
    "\n",
    "a = [1,2,3] 与 b = [3,2,1]，两个列表中的内容是一样的，怎么判断出来？\n",
    "\n",
    "提示：集合"
   ]
  },
  {
   "cell_type": "code",
   "execution_count": 11,
   "metadata": {},
   "outputs": [
    {
     "name": "stdout",
     "output_type": "stream",
     "text": [
      "两个列表内容一致！\n"
     ]
    }
   ],
   "source": [
    "a = [1,2,3]\n",
    "b = [3,2,3,1]\n",
    "if set(a) == set(b):\n",
    "    print('两个列表内容一致！')\n",
    "else:\n",
    "    print('两个列表内容不一致！')"
   ]
  },
  {
   "attachments": {},
   "cell_type": "markdown",
   "metadata": {},
   "source": [
    "6.（os、shutil模块的内容） 创建一个函数copy_directory，传入两个参数source_dir、destination_dir分别表示源文件夹和目标文件夹。 \n",
    "\n",
    "该函数作用是判断目标文件夹是否存在，如果不存在则新建，如果存在则把源文件夹下所有的内容复制到目标文件夹里面。"
   ]
  },
  {
   "cell_type": "code",
   "execution_count": null,
   "metadata": {},
   "outputs": [],
   "source": [
    "import os\n",
    "import shutil\n",
    "\n",
    "def copy_directory(source_dir, destination_dir):\n",
    "    # 创建目标目录（如果不存在）\n",
    "    if not os.path.exists(destination_dir):\n",
    "        os.makedirs(destination_dir)\n",
    "    \n",
    "    # 复制源目录及其所有内容到目标目录\n",
    "    shutil.copytree(source_dir, destination_dir)\n",
    "\n",
    "# 调用函数进行目录复制\n",
    "source_directory = \"D:/taidi/2023暑假数据分析就业定制班/陈四德/练习\"\n",
    "destination_directory = \"D:/taidi/2023暑假数据分析就业定制班/陈四德/练习\"\n",
    "\n",
    "copy_directory(source_directory, destination_directory)"
   ]
  }
 ],
 "metadata": {
  "kernelspec": {
   "display_name": "base",
   "language": "python",
   "name": "python3"
  },
  "language_info": {
   "codemirror_mode": {
    "name": "ipython",
    "version": 3
   },
   "file_extension": ".py",
   "mimetype": "text/x-python",
   "name": "python",
   "nbconvert_exporter": "python",
   "pygments_lexer": "ipython3",
   "version": "3.10.9"
  },
  "orig_nbformat": 4
 },
 "nbformat": 4,
 "nbformat_minor": 2
}
