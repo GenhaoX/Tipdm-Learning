{
 "cells": [
  {
   "cell_type": "code",
   "execution_count": 3,
   "metadata": {},
   "outputs": [
    {
     "data": {
      "text/plain": [
       "{'bitter', 'other', 'sour', 'spicy', 'sweet'}"
      ]
     },
     "execution_count": 3,
     "metadata": {},
     "output_type": "execute_result"
    }
   ],
   "source": [
    "set(df['flavor_profile'])"
   ]
  },
  {
   "cell_type": "code",
   "execution_count": null,
   "metadata": {},
   "outputs": [],
   "source": []
  },
  {
   "cell_type": "code",
   "execution_count": 12,
   "metadata": {},
   "outputs": [],
   "source": [
    "import tkinter as tk\n",
    "from tkinter import ttk\n",
    "\n",
    "root = tk.Tk()\n",
    "root.geometry('300x200')\n",
    "\n",
    "# 创建下拉菜单框\n",
    "combobox = ttk.Combobox(root, state=\"readonly\", font=('Arial', 12))\n",
    "\n",
    "# 设置选项和提示词\n",
    "combobox['values'] = (\"选项1\", \"选项2\", \"选项3\")\n",
    "combobox.set('请选择一个选项')\n",
    "\n",
    "# 创建样式对象\n",
    "style = ttk.Style()\n",
    "\n",
    "# 在 'TCombobox' 样式中配置提示词样式\n",
    "style.configure('TCombobox', foreground='gray', font=('Arial', 12, 'italic'))\n",
    "\n",
    "# 根据状态设置下拉菜单框的样式\n",
    "style.map('TCombobox',\n",
    "          fieldforeground=[('readonly', 'gray'), ('!disabled', 'black')],\n",
    "          fieldbackground=[('readonly', 'white'), ('!disabled', 'white')])\n",
    "\n",
    "# 放置下拉菜单框\n",
    "combobox.pack(pady=20)\n",
    "\n",
    "root.mainloop()\n"
   ]
  },
  {
   "cell_type": "code",
   "execution_count": 1,
   "metadata": {},
   "outputs": [],
   "source": [
    "import tkinter as tk\n",
    "from tkinter import ttk\n",
    "import tkinter as tk\n",
    "import pandas as pd\n",
    "import numpy as np\n",
    "from tkinter import font\n",
    "from tkinter import messagebox\n",
    "\n",
    "df = pd.read_csv('clean_data.csv')\n",
    "df.drop(columns='Unnamed: 0',inplace=True)\n",
    "cos_matrix = np.load(\"cosine_similarity_matrix.npy\")\n",
    "#由美食查找城市\n",
    "def food_of_state():   #相似美食推荐\n",
    "    food = dropdown.get()  # 获取用户输入的美食名称\n",
    "    if food in df[\"name\"].values:\n",
    "        target_index = df[df[\"name\"] == food].index[0]\n",
    "        food_state = df['state'][target_index]\n",
    "        result_text.insert(tk.END, f\"在{food_state}能找到这种美食\\n\")\n",
    "    else:\n",
    "        result_text.insert(tk.END, f\"查找不到 {food} 这种美食,请检查您是否拼写有误,名称首字母需大写!\\n\")\n",
    "\n",
    "root = tk.Tk()\n",
    "\n",
    "# 创建下拉菜单框\n",
    "dropdown = ttk.Combobox(root, values=[\"选项1\", \"选项2\", \"选项3\"])\n",
    "dropdown.pack()\n",
    "button1 = tk.Button(root, text=\"美食所在州\", command=food_of_state,width=18)\n",
    "button1.pack()\n",
    "result_text = tk.Text(root, font=(\"微软雅黑\", 12),height=11,width=65)\n",
    "result_text.pack()\n",
    "root.mainloop()\n"
   ]
  }
 ],
 "metadata": {
  "kernelspec": {
   "display_name": "base",
   "language": "python",
   "name": "python3"
  },
  "language_info": {
   "codemirror_mode": {
    "name": "ipython",
    "version": 3
   },
   "file_extension": ".py",
   "mimetype": "text/x-python",
   "name": "python",
   "nbconvert_exporter": "python",
   "pygments_lexer": "ipython3",
   "version": "3.9.12"
  }
 },
 "nbformat": 4,
 "nbformat_minor": 2
}
